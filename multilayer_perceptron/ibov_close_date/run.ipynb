{
 "cells": [
  {
   "attachments": {},
   "cell_type": "markdown",
   "metadata": {},
   "source": [
    "## Importando libs"
   ]
  },
  {
   "cell_type": "code",
   "execution_count": 1,
   "metadata": {},
   "outputs": [],
   "source": [
    "import pandas as pd\n",
    "import numpy as np\n",
    "import matplotlib.pyplot as plt\n",
    "\n",
    "from sklearn.preprocessing import StandardScaler # normalização de dados\n",
    "from sklearn.model_selection import train_test_split # dividir dados entre treinmaneto e teste\n",
    "from sklearn.metrics import r2_score #verificar o erro entre a predição e o valor real\n",
    "from sklearn.neural_network import MLPRegressor\n",
    "import datetime as dt"
   ]
  },
  {
   "attachments": {},
   "cell_type": "markdown",
   "metadata": {},
   "source": [
    "### Pegando o Dataset"
   ]
  },
  {
   "cell_type": "code",
   "execution_count": 2,
   "metadata": {},
   "outputs": [],
   "source": [
    "dataset = pd.read_csv(\"./ibov_2017_2023.csv\")"
   ]
  },
  {
   "attachments": {},
   "cell_type": "markdown",
   "metadata": {},
   "source": [
    "### Removando colunas não usadas"
   ]
  },
  {
   "cell_type": "code",
   "execution_count": 3,
   "metadata": {},
   "outputs": [],
   "source": [
    "dataset = dataset.drop('Vol.', axis=1)\n",
    "dataset = dataset.drop('Data', axis=1)\n",
    "dataset = dataset.drop('Var%', axis=1)"
   ]
  },
  {
   "attachments": {},
   "cell_type": "markdown",
   "metadata": {},
   "source": [
    "### Criando uma nova coluna com o o valor do dia Posterior"
   ]
  },
  {
   "cell_type": "code",
   "execution_count": 5,
   "metadata": {},
   "outputs": [],
   "source": [
    "dataset[['Último_amanha']] = dataset[['Último']].shift(-1)"
   ]
  },
  {
   "attachments": {},
   "cell_type": "markdown",
   "metadata": {},
   "source": [
    "### Criando uma Coluna de retorno do fechamento e o fechamento do dia posterior"
   ]
  },
  {
   "cell_type": "code",
   "execution_count": 6,
   "metadata": {},
   "outputs": [],
   "source": [
    "dataset['Retorno'] = dataset['Último_amanha'] - dataset['Último']"
   ]
  },
  {
   "attachments": {},
   "cell_type": "markdown",
   "metadata": {},
   "source": [
    "### Normalizando colunas para esté entre 0 e 1"
   ]
  },
  {
   "cell_type": "code",
   "execution_count": 7,
   "metadata": {},
   "outputs": [],
   "source": [
    "escala = StandardScaler()\n",
    "for c in dataset.columns:\n",
    "    dataset[c+'_Norm'] = escala.fit_transform(dataset[c].to_numpy().reshape(-1, 1))\n",
    "dataset = dataset.dropna()"
   ]
  },
  {
   "attachments": {},
   "cell_type": "markdown",
   "metadata": {},
   "source": [
    "### Dividindo o dataset entre dados de treinamento e teste"
   ]
  },
  {
   "cell_type": "code",
   "execution_count": 10,
   "metadata": {},
   "outputs": [],
   "source": [
    "X_norm_train, X_norm_test, Y_train, Y_test = train_test_split(dataset[['Último_Norm']], dataset[['Último_amanha_Norm']], test_size=0.3)"
   ]
  },
  {
   "attachments": {},
   "cell_type": "markdown",
   "metadata": {},
   "source": [
    "### Criando o objeto do modelo"
   ]
  },
  {
   "cell_type": "code",
   "execution_count": 11,
   "metadata": {},
   "outputs": [],
   "source": [
    "rna = MLPRegressor(hidden_layer_sizes=(10, 5),\n",
    "                   max_iter=2000,\n",
    "                   tol=0.00000001,\n",
    "                   learning_rate_init=0.1,\n",
    "                   solver=\"sgd\",\n",
    "                   activation=\"logistic\",\n",
    "                   learning_rate=\"constant\",\n",
    "                   verbose=2)"
   ]
  },
  {
   "attachments": {},
   "cell_type": "markdown",
   "metadata": {},
   "source": [
    "### Fazendo o treinamento do modelo entre o que eu vou treinar e o que eu vou prever"
   ]
  },
  {
   "cell_type": "code",
   "execution_count": 12,
   "metadata": {},
   "outputs": [
    {
     "name": "stderr",
     "output_type": "stream",
     "text": [
      "/home/wesley/dev/projetos/tcc/multilayer_perceptron/ibov_close_date/venv/lib/python3.9/site-packages/sklearn/neural_network/_multilayer_perceptron.py:1623: DataConversionWarning: A column-vector y was passed when a 1d array was expected. Please change the shape of y to (n_samples, ), for example using ravel().\n",
      "  y = column_or_1d(y, warn=True)\n"
     ]
    },
    {
     "name": "stdout",
     "output_type": "stream",
     "text": [
      "Iteration 1, loss = 0.50172509\n",
      "Iteration 2, loss = 0.47852092\n",
      "Iteration 3, loss = 0.45780478\n",
      "Iteration 4, loss = 0.42702211\n",
      "Iteration 5, loss = 0.37737507\n",
      "Iteration 6, loss = 0.30075259\n",
      "Iteration 7, loss = 0.19149282\n",
      "Iteration 8, loss = 0.07963267\n",
      "Iteration 9, loss = 0.02352496\n",
      "Iteration 10, loss = 0.02281221\n",
      "Iteration 11, loss = 0.02391847\n",
      "Iteration 12, loss = 0.01615749\n",
      "Iteration 13, loss = 0.01253184\n",
      "Iteration 14, loss = 0.01183539\n",
      "Iteration 15, loss = 0.01111165\n",
      "Iteration 16, loss = 0.01028465\n",
      "Iteration 17, loss = 0.00966189\n",
      "Iteration 18, loss = 0.00934464\n",
      "Iteration 19, loss = 0.00899908\n",
      "Iteration 20, loss = 0.00874742\n",
      "Iteration 21, loss = 0.00846206\n",
      "Iteration 22, loss = 0.00825269\n",
      "Iteration 23, loss = 0.00805636\n",
      "Iteration 24, loss = 0.00789488\n",
      "Iteration 25, loss = 0.00772455\n",
      "Iteration 26, loss = 0.00759337\n",
      "Iteration 27, loss = 0.00746844\n",
      "Iteration 28, loss = 0.00736537\n",
      "Iteration 29, loss = 0.00739108\n",
      "Iteration 30, loss = 0.00716268\n",
      "Iteration 31, loss = 0.00707878\n",
      "Iteration 32, loss = 0.00696581\n",
      "Iteration 33, loss = 0.00692894\n",
      "Iteration 34, loss = 0.00683121\n",
      "Iteration 35, loss = 0.00679300\n",
      "Iteration 36, loss = 0.00670444\n",
      "Iteration 37, loss = 0.00660667\n",
      "Iteration 38, loss = 0.00655874\n",
      "Iteration 39, loss = 0.00650761\n",
      "Iteration 40, loss = 0.00640976\n",
      "Iteration 41, loss = 0.00644111\n",
      "Iteration 42, loss = 0.00631943\n",
      "Iteration 43, loss = 0.00626056\n",
      "Iteration 44, loss = 0.00623448\n",
      "Iteration 45, loss = 0.00618792\n",
      "Iteration 46, loss = 0.00612797\n",
      "Iteration 47, loss = 0.00610362\n",
      "Iteration 48, loss = 0.00606924\n",
      "Iteration 49, loss = 0.00611002\n",
      "Iteration 50, loss = 0.00595628\n",
      "Iteration 51, loss = 0.00591365\n",
      "Iteration 52, loss = 0.00587935\n",
      "Iteration 53, loss = 0.00583334\n",
      "Iteration 54, loss = 0.00582277\n",
      "Iteration 55, loss = 0.00579874\n",
      "Iteration 56, loss = 0.00573515\n",
      "Iteration 57, loss = 0.00568503\n",
      "Iteration 58, loss = 0.00572686\n",
      "Iteration 59, loss = 0.00565157\n",
      "Iteration 60, loss = 0.00563815\n",
      "Iteration 61, loss = 0.00560424\n",
      "Iteration 62, loss = 0.00554661\n",
      "Iteration 63, loss = 0.00554892\n",
      "Iteration 64, loss = 0.00548898\n",
      "Iteration 65, loss = 0.00548141\n",
      "Iteration 66, loss = 0.00543944\n",
      "Iteration 67, loss = 0.00542472\n",
      "Iteration 68, loss = 0.00538144\n",
      "Iteration 69, loss = 0.00540561\n",
      "Iteration 70, loss = 0.00537647\n",
      "Iteration 71, loss = 0.00533530\n",
      "Iteration 72, loss = 0.00531543\n",
      "Iteration 73, loss = 0.00529191\n",
      "Iteration 74, loss = 0.00527041\n",
      "Iteration 75, loss = 0.00527592\n",
      "Iteration 76, loss = 0.00524277\n",
      "Iteration 77, loss = 0.00520293\n",
      "Iteration 78, loss = 0.00522378\n",
      "Iteration 79, loss = 0.00515329\n",
      "Iteration 80, loss = 0.00516606\n",
      "Iteration 81, loss = 0.00514844\n",
      "Iteration 82, loss = 0.00513495\n",
      "Iteration 83, loss = 0.00512827\n",
      "Iteration 84, loss = 0.00508277\n",
      "Iteration 85, loss = 0.00505464\n",
      "Iteration 86, loss = 0.00507324\n",
      "Iteration 87, loss = 0.00502294\n",
      "Iteration 88, loss = 0.00504759\n",
      "Iteration 89, loss = 0.00503631\n",
      "Iteration 90, loss = 0.00499447\n",
      "Iteration 91, loss = 0.00501699\n",
      "Iteration 92, loss = 0.00495908\n",
      "Iteration 93, loss = 0.00494452\n",
      "Iteration 94, loss = 0.00491244\n",
      "Iteration 95, loss = 0.00491302\n",
      "Iteration 96, loss = 0.00488336\n",
      "Iteration 97, loss = 0.00488153\n",
      "Iteration 98, loss = 0.00486394\n",
      "Iteration 99, loss = 0.00487724\n",
      "Iteration 100, loss = 0.00483957\n",
      "Iteration 101, loss = 0.00488791\n",
      "Iteration 102, loss = 0.00486190\n",
      "Iteration 103, loss = 0.00481033\n",
      "Iteration 104, loss = 0.00482235\n",
      "Iteration 105, loss = 0.00481886\n",
      "Iteration 106, loss = 0.00479054\n",
      "Iteration 107, loss = 0.00483087\n",
      "Iteration 108, loss = 0.00474123\n",
      "Iteration 109, loss = 0.00475488\n",
      "Iteration 110, loss = 0.00473849\n",
      "Iteration 111, loss = 0.00473631\n",
      "Iteration 112, loss = 0.00473265\n",
      "Iteration 113, loss = 0.00473915\n",
      "Iteration 114, loss = 0.00469593\n",
      "Iteration 115, loss = 0.00469332\n",
      "Iteration 116, loss = 0.00470491\n",
      "Iteration 117, loss = 0.00467765\n",
      "Iteration 118, loss = 0.00465717\n",
      "Iteration 119, loss = 0.00463961\n",
      "Iteration 120, loss = 0.00474907\n",
      "Iteration 121, loss = 0.00461643\n",
      "Iteration 122, loss = 0.00467476\n",
      "Iteration 123, loss = 0.00465259\n",
      "Iteration 124, loss = 0.00464405\n",
      "Iteration 125, loss = 0.00461822\n",
      "Iteration 126, loss = 0.00462421\n",
      "Iteration 127, loss = 0.00457757\n",
      "Iteration 128, loss = 0.00458919\n",
      "Iteration 129, loss = 0.00460555\n",
      "Iteration 130, loss = 0.00455581\n",
      "Iteration 131, loss = 0.00455777\n",
      "Iteration 132, loss = 0.00454605\n",
      "Iteration 133, loss = 0.00455343\n",
      "Iteration 134, loss = 0.00456341\n",
      "Iteration 135, loss = 0.00453664\n",
      "Iteration 136, loss = 0.00453145\n",
      "Iteration 137, loss = 0.00457338\n",
      "Iteration 138, loss = 0.00451898\n",
      "Iteration 139, loss = 0.00451077\n",
      "Iteration 140, loss = 0.00450721\n",
      "Iteration 141, loss = 0.00453119\n",
      "Iteration 142, loss = 0.00447092\n",
      "Iteration 143, loss = 0.00446980\n",
      "Iteration 144, loss = 0.00446144\n",
      "Iteration 145, loss = 0.00447319\n",
      "Iteration 146, loss = 0.00445339\n",
      "Iteration 147, loss = 0.00446944\n",
      "Iteration 148, loss = 0.00442546\n",
      "Iteration 149, loss = 0.00447224\n",
      "Iteration 150, loss = 0.00445875\n",
      "Iteration 151, loss = 0.00443881\n",
      "Iteration 152, loss = 0.00440843\n",
      "Iteration 153, loss = 0.00443730\n",
      "Iteration 154, loss = 0.00445339\n",
      "Iteration 155, loss = 0.00440088\n",
      "Iteration 156, loss = 0.00438607\n",
      "Iteration 157, loss = 0.00443817\n",
      "Iteration 158, loss = 0.00442275\n",
      "Iteration 159, loss = 0.00436406\n",
      "Iteration 160, loss = 0.00436365\n",
      "Iteration 161, loss = 0.00440437\n",
      "Iteration 162, loss = 0.00439218\n",
      "Iteration 163, loss = 0.00437545\n",
      "Iteration 164, loss = 0.00438226\n",
      "Iteration 165, loss = 0.00434834\n",
      "Iteration 166, loss = 0.00434128\n",
      "Iteration 167, loss = 0.00433237\n",
      "Iteration 168, loss = 0.00435321\n",
      "Iteration 169, loss = 0.00433024\n",
      "Iteration 170, loss = 0.00432180\n",
      "Iteration 171, loss = 0.00432223\n",
      "Iteration 172, loss = 0.00431559\n",
      "Iteration 173, loss = 0.00432848\n",
      "Iteration 174, loss = 0.00434762\n",
      "Iteration 175, loss = 0.00432581\n",
      "Iteration 176, loss = 0.00431007\n",
      "Iteration 177, loss = 0.00429000\n",
      "Iteration 178, loss = 0.00432615\n",
      "Iteration 179, loss = 0.00431884\n",
      "Iteration 180, loss = 0.00430754\n",
      "Iteration 181, loss = 0.00429433\n",
      "Iteration 182, loss = 0.00429902\n",
      "Iteration 183, loss = 0.00429751\n",
      "Iteration 184, loss = 0.00426262\n",
      "Iteration 185, loss = 0.00428330\n",
      "Iteration 186, loss = 0.00431753\n",
      "Iteration 187, loss = 0.00428535\n",
      "Iteration 188, loss = 0.00429720\n",
      "Iteration 189, loss = 0.00425234\n",
      "Iteration 190, loss = 0.00423835\n",
      "Iteration 191, loss = 0.00423063\n",
      "Iteration 192, loss = 0.00423304\n",
      "Iteration 193, loss = 0.00423424\n",
      "Iteration 194, loss = 0.00424407\n",
      "Iteration 195, loss = 0.00433392\n",
      "Iteration 196, loss = 0.00424800\n",
      "Iteration 197, loss = 0.00421867\n",
      "Iteration 198, loss = 0.00423670\n",
      "Iteration 199, loss = 0.00424277\n",
      "Iteration 200, loss = 0.00424285\n",
      "Iteration 201, loss = 0.00428956\n",
      "Iteration 202, loss = 0.00422860\n",
      "Iteration 203, loss = 0.00421840\n",
      "Iteration 204, loss = 0.00423781\n",
      "Iteration 205, loss = 0.00430163\n",
      "Iteration 206, loss = 0.00424060\n",
      "Iteration 207, loss = 0.00420210\n",
      "Iteration 208, loss = 0.00418447\n",
      "Iteration 209, loss = 0.00421952\n",
      "Iteration 210, loss = 0.00420478\n",
      "Iteration 211, loss = 0.00421173\n",
      "Iteration 212, loss = 0.00420116\n",
      "Iteration 213, loss = 0.00419105\n",
      "Iteration 214, loss = 0.00417182\n",
      "Iteration 215, loss = 0.00418209\n",
      "Iteration 216, loss = 0.00418498\n",
      "Iteration 217, loss = 0.00421186\n",
      "Iteration 218, loss = 0.00415440\n",
      "Iteration 219, loss = 0.00414069\n",
      "Iteration 220, loss = 0.00420933\n",
      "Iteration 221, loss = 0.00414714\n",
      "Iteration 222, loss = 0.00417424\n",
      "Iteration 223, loss = 0.00413644\n",
      "Iteration 224, loss = 0.00412833\n",
      "Iteration 225, loss = 0.00416385\n",
      "Iteration 226, loss = 0.00417539\n",
      "Iteration 227, loss = 0.00416214\n",
      "Iteration 228, loss = 0.00413771\n",
      "Iteration 229, loss = 0.00413458\n",
      "Iteration 230, loss = 0.00415801\n",
      "Iteration 231, loss = 0.00413229\n",
      "Iteration 232, loss = 0.00416053\n",
      "Iteration 233, loss = 0.00415968\n",
      "Iteration 234, loss = 0.00414431\n",
      "Iteration 235, loss = 0.00413185\n",
      "Training loss did not improve more than tol=0.000000 for 10 consecutive epochs. Stopping.\n"
     ]
    },
    {
     "data": {
      "text/html": [
       "<style>#sk-container-id-1 {color: black;background-color: white;}#sk-container-id-1 pre{padding: 0;}#sk-container-id-1 div.sk-toggleable {background-color: white;}#sk-container-id-1 label.sk-toggleable__label {cursor: pointer;display: block;width: 100%;margin-bottom: 0;padding: 0.3em;box-sizing: border-box;text-align: center;}#sk-container-id-1 label.sk-toggleable__label-arrow:before {content: \"▸\";float: left;margin-right: 0.25em;color: #696969;}#sk-container-id-1 label.sk-toggleable__label-arrow:hover:before {color: black;}#sk-container-id-1 div.sk-estimator:hover label.sk-toggleable__label-arrow:before {color: black;}#sk-container-id-1 div.sk-toggleable__content {max-height: 0;max-width: 0;overflow: hidden;text-align: left;background-color: #f0f8ff;}#sk-container-id-1 div.sk-toggleable__content pre {margin: 0.2em;color: black;border-radius: 0.25em;background-color: #f0f8ff;}#sk-container-id-1 input.sk-toggleable__control:checked~div.sk-toggleable__content {max-height: 200px;max-width: 100%;overflow: auto;}#sk-container-id-1 input.sk-toggleable__control:checked~label.sk-toggleable__label-arrow:before {content: \"▾\";}#sk-container-id-1 div.sk-estimator input.sk-toggleable__control:checked~label.sk-toggleable__label {background-color: #d4ebff;}#sk-container-id-1 div.sk-label input.sk-toggleable__control:checked~label.sk-toggleable__label {background-color: #d4ebff;}#sk-container-id-1 input.sk-hidden--visually {border: 0;clip: rect(1px 1px 1px 1px);clip: rect(1px, 1px, 1px, 1px);height: 1px;margin: -1px;overflow: hidden;padding: 0;position: absolute;width: 1px;}#sk-container-id-1 div.sk-estimator {font-family: monospace;background-color: #f0f8ff;border: 1px dotted black;border-radius: 0.25em;box-sizing: border-box;margin-bottom: 0.5em;}#sk-container-id-1 div.sk-estimator:hover {background-color: #d4ebff;}#sk-container-id-1 div.sk-parallel-item::after {content: \"\";width: 100%;border-bottom: 1px solid gray;flex-grow: 1;}#sk-container-id-1 div.sk-label:hover label.sk-toggleable__label {background-color: #d4ebff;}#sk-container-id-1 div.sk-serial::before {content: \"\";position: absolute;border-left: 1px solid gray;box-sizing: border-box;top: 0;bottom: 0;left: 50%;z-index: 0;}#sk-container-id-1 div.sk-serial {display: flex;flex-direction: column;align-items: center;background-color: white;padding-right: 0.2em;padding-left: 0.2em;position: relative;}#sk-container-id-1 div.sk-item {position: relative;z-index: 1;}#sk-container-id-1 div.sk-parallel {display: flex;align-items: stretch;justify-content: center;background-color: white;position: relative;}#sk-container-id-1 div.sk-item::before, #sk-container-id-1 div.sk-parallel-item::before {content: \"\";position: absolute;border-left: 1px solid gray;box-sizing: border-box;top: 0;bottom: 0;left: 50%;z-index: -1;}#sk-container-id-1 div.sk-parallel-item {display: flex;flex-direction: column;z-index: 1;position: relative;background-color: white;}#sk-container-id-1 div.sk-parallel-item:first-child::after {align-self: flex-end;width: 50%;}#sk-container-id-1 div.sk-parallel-item:last-child::after {align-self: flex-start;width: 50%;}#sk-container-id-1 div.sk-parallel-item:only-child::after {width: 0;}#sk-container-id-1 div.sk-dashed-wrapped {border: 1px dashed gray;margin: 0 0.4em 0.5em 0.4em;box-sizing: border-box;padding-bottom: 0.4em;background-color: white;}#sk-container-id-1 div.sk-label label {font-family: monospace;font-weight: bold;display: inline-block;line-height: 1.2em;}#sk-container-id-1 div.sk-label-container {text-align: center;}#sk-container-id-1 div.sk-container {/* jupyter's `normalize.less` sets `[hidden] { display: none; }` but bootstrap.min.css set `[hidden] { display: none !important; }` so we also need the `!important` here to be able to override the default hidden behavior on the sphinx rendered scikit-learn.org. See: https://github.com/scikit-learn/scikit-learn/issues/21755 */display: inline-block !important;position: relative;}#sk-container-id-1 div.sk-text-repr-fallback {display: none;}</style><div id=\"sk-container-id-1\" class=\"sk-top-container\"><div class=\"sk-text-repr-fallback\"><pre>MLPRegressor(activation=&#x27;logistic&#x27;, hidden_layer_sizes=(10, 5),\n",
       "             learning_rate_init=0.1, max_iter=2000, solver=&#x27;sgd&#x27;, tol=1e-08,\n",
       "             verbose=2)</pre><b>In a Jupyter environment, please rerun this cell to show the HTML representation or trust the notebook. <br />On GitHub, the HTML representation is unable to render, please try loading this page with nbviewer.org.</b></div><div class=\"sk-container\" hidden><div class=\"sk-item\"><div class=\"sk-estimator sk-toggleable\"><input class=\"sk-toggleable__control sk-hidden--visually\" id=\"sk-estimator-id-1\" type=\"checkbox\" checked><label for=\"sk-estimator-id-1\" class=\"sk-toggleable__label sk-toggleable__label-arrow\">MLPRegressor</label><div class=\"sk-toggleable__content\"><pre>MLPRegressor(activation=&#x27;logistic&#x27;, hidden_layer_sizes=(10, 5),\n",
       "             learning_rate_init=0.1, max_iter=2000, solver=&#x27;sgd&#x27;, tol=1e-08,\n",
       "             verbose=2)</pre></div></div></div></div></div>"
      ],
      "text/plain": [
       "MLPRegressor(activation='logistic', hidden_layer_sizes=(10, 5),\n",
       "             learning_rate_init=0.1, max_iter=2000, solver='sgd', tol=1e-08,\n",
       "             verbose=2)"
      ]
     },
     "execution_count": 12,
     "metadata": {},
     "output_type": "execute_result"
    }
   ],
   "source": [
    "rna.fit(X_norm_train, Y_train)"
   ]
  },
  {
   "attachments": {},
   "cell_type": "markdown",
   "metadata": {},
   "source": [
    "### Pegando a previsão feita pelo modelo"
   ]
  },
  {
   "cell_type": "code",
   "execution_count": 13,
   "metadata": {},
   "outputs": [],
   "source": [
    "Y_rna_previsao = rna.predict(X_norm_test)"
   ]
  },
  {
   "attachments": {},
   "cell_type": "markdown",
   "metadata": {},
   "source": [
    "### Cálculo de verificação de acerto"
   ]
  },
  {
   "cell_type": "code",
   "execution_count": 14,
   "metadata": {},
   "outputs": [
    {
     "name": "stdout",
     "output_type": "stream",
     "text": [
      "R2 RNA: 0.9912238347956793\n"
     ]
    }
   ],
   "source": [
    "r2_rna = r2_score(Y_test, Y_rna_previsao)\n",
    "\n",
    "print(\"R2 RNA:\", r2_rna)"
   ]
  },
  {
   "cell_type": "code",
   "execution_count": 15,
   "metadata": {},
   "outputs": [],
   "source": [
    "X_test = escala.inverse_transform(X_norm_test)"
   ]
  },
  {
   "cell_type": "code",
   "execution_count": 16,
   "metadata": {},
   "outputs": [
    {
     "data": {
      "text/plain": [
       "<matplotlib.legend.Legend at 0x7f7f32f5f130>"
      ]
     },
     "execution_count": 16,
     "metadata": {},
     "output_type": "execute_result"
    },
    {
     "data": {
      "image/png": "[encoded data removed]",
      "text/plain": [
       "<Figure size 640x480 with 1 Axes>"
      ]
     },
     "metadata": {},
     "output_type": "display_data"
    }
   ],
   "source": [
    "plt.plot(X_test, Y_test, alpha=0.5, label=\"Reais\")\n",
    "plt.plot(X_test, Y_rna_previsao, alpha=0.5, label=\"MLP\")\n",
    "plt.xlabel(\"Último antes\")\n",
    "plt.ylabel(\"Último amanhã\")\n",
    "plt.title(\"Comparação entre algoritmos previstos\")\n",
    "plt.legend(loc=1)"
   ]
  },
  {
   "cell_type": "code",
   "execution_count": null,
   "metadata": {},
   "outputs": [],
   "source": []
  }
 ],
 "metadata": {
  "kernelspec": {
   "display_name": "venv",
   "language": "python",
   "name": "python3"
  },
  "language_info": {
   "codemirror_mode": {
    "name": "ipython",
    "version": 3
   },
   "file_extension": ".py",
   "mimetype": "text/x-python",
   "name": "python",
   "nbconvert_exporter": "python",
   "pygments_lexer": "ipython3",
   "version": "3.9.16"
  },
  "orig_nbformat": 4
 },
 "nbformat": 4,
 "nbformat_minor": 2
}
